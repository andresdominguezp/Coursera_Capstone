{
    "cells": [
        {
            "cell_type": "markdown",
            "metadata": {
                "collapsed": true
            },
            "source": "# Data Science Capstone\n### Data\nAndres Dominguez\n\n---\n---"
        },
        {
            "cell_type": "markdown",
            "metadata": {},
            "source": "### Abstract "
        },
        {
            "cell_type": "markdown",
            "metadata": {},
            "source": "The data that I will be using to solve the problem presented will be only from the Foursquare location data."
        },
        {
            "cell_type": "markdown",
            "metadata": {},
            "source": "### How will this data help solve the problem presented?"
        },
        {
            "cell_type": "markdown",
            "metadata": {},
            "source": "Like mentioned in the introduction/business problem section (please refer to \"Things to consider when opening a retail store\" segment), when looking for a good location to open up a retailer store, there are some aspects that has to be taken into account. These aspects are:\n\n+ Similarity or disimliraty of neighbor stores. \n+ Public transportation\n+ Parking\n\n--> The whole idea is to have the highest traffic of the target market, and this data can help retrieve the venues mentioned above to cluster and recommend the best location for any specific market."
        },
        {
            "cell_type": "markdown",
            "metadata": {},
            "source": "### Example"
        },
        {
            "cell_type": "markdown",
            "metadata": {},
            "source": "These aspects can be obtained from the Foursquare location data. \n\nFor example, if a person is looking to open a retail store that repairs electronic products, I can use the Foursquare location data to obtain venues of stores that sell electronics, public transportation, parking, and similar retailers to recommend the best location.\n\nNow... with this idea in mind, we can obtain all venues that meets the aspects mentioned above, and cluster them to best spot any retail store a person would like to open."
        },
        {
            "cell_type": "code",
            "execution_count": null,
            "metadata": {},
            "outputs": [],
            "source": ""
        }
    ],
    "metadata": {
        "kernelspec": {
            "display_name": "Python 3.6",
            "language": "python",
            "name": "python3"
        },
        "language_info": {
            "codemirror_mode": {
                "name": "ipython",
                "version": 3
            },
            "file_extension": ".py",
            "mimetype": "text/x-python",
            "name": "python",
            "nbconvert_exporter": "python",
            "pygments_lexer": "ipython3",
            "version": "3.6.9"
        }
    },
    "nbformat": 4,
    "nbformat_minor": 1
}